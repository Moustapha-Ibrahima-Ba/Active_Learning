{
 "cells": [
  {
   "cell_type": "code",
   "execution_count": 1,
   "metadata": {},
   "outputs": [],
   "source": [
    "# import the necessary packages\n",
    "from matplotlib import pyplot as plt\n",
    "import seaborn as sns\n",
    "import numpy as np"
   ]
  },
  {
   "cell_type": "code",
   "execution_count": 2,
   "metadata": {},
   "outputs": [],
   "source": [
    "def next_batch(features, labels, batch_size):\n",
    "  \n",
    "    batch_list = []\n",
    "    for data in np.arange(start=0, stop=np.shape(features)[0], step=batch_size):\n",
    "        batch_list.append((features[data: data + batch_size],\n",
    "                           labels[data: data + batch_size]))\n",
    " \n",
    "    return batch_list"
   ]
  },
  {
   "cell_type": "code",
   "execution_count": 3,
   "metadata": {},
   "outputs": [],
   "source": [
    "def stochastic_gradient_descent(X, y, alpha=0.01, epochs=100, batch_size=1):\n",
    "    \n",
    " \n",
    "    m = np.shape(X)[0]  # total number of samples\n",
    "    n = np.shape(X)[1]  # total number of features\n",
    " \n",
    "    X = np.concatenate((np.ones((m, 1)), X), axis=1)\n",
    "    W = np.random.randn(n + 1, )\n",
    " \n",
    "    # stores the updates on the lost/cost function\n",
    "    cost_history_list = []\n",
    "    \n",
    "    # iterate until the maximum number of epochs\n",
    "    for current_iteration in np.arange(epochs):  # begin the process\n",
    " \n",
    "        # save the total lost/cost during each batch\n",
    "        batch_epoch_loss_list = []\n",
    " \n",
    "        for (X_batch, y_batch) in next_batch(X, y, batch_size):\n",
    "            # current size of the feature batch\n",
    "            batch_m = np.shape(X_batch)[0]\n",
    " \n",
    "            # compute the dot product between our\n",
    "            # feature 'X_batch' and weight theta\n",
    "            y_estimated = X_batch.dot(W)\n",
    " \n",
    "            # calculate the difference between the actual\n",
    "            # and estimated value\n",
    "            error = y_estimated - y_batch\n",
    " \n",
    "            # get the cost (Mean squared error -MSE)\n",
    "            cost = (1 / 2 ) * np.sum(error ** 2)\n",
    " \n",
    "            batch_epoch_loss_list.append(cost)  # save it to a list\n",
    " \n",
    "            # Update our gradient by the dot product between the\n",
    "            # transpose of 'X_batch' and our error divided by the\n",
    "            # few number of samples\n",
    "            gradient = X_batch.T.dot(error)\n",
    " \n",
    "            # Now we have to update our weights\n",
    "            W = W - alpha * gradient\n",
    " \n",
    "        # Let's print out the cost to see how these values\n",
    "        # changes after every each iteration\n",
    "        print(f\"cost:{np.average(batch_epoch_loss_list)} \\t\"\n",
    "              f\" iteration: {current_iteration}\")\n",
    " \n",
    "        # keep track of the cost\n",
    "        cost_history_list.append(np.average(batch_epoch_loss_list))\n",
    " \n",
    "    # return both our weight and list of cost function changing overtime\n",
    "    return W, cost_history_list"
   ]
  },
  {
   "cell_type": "code",
   "execution_count": 4,
   "metadata": {},
   "outputs": [
    {
     "name": "stdout",
     "output_type": "stream",
     "text": [
      "cost:5.6734326291147726e+32 \t iteration: 0\n",
      "cost:7.203921373118124e+61 \t iteration: 1\n",
      "cost:9.147281115800538e+90 \t iteration: 2\n",
      "cost:1.161488965214295e+120 \t iteration: 3\n",
      "cost:1.4748170513577916e+149 \t iteration: 4\n",
      "cost:1.872669823061459e+178 \t iteration: 5\n",
      "cost:2.3778490104765232e+207 \t iteration: 6\n",
      "cost:3.0193074331601644e+236 \t iteration: 7\n",
      "cost:3.833808343494983e+265 \t iteration: 8\n",
      "cost:4.868032401479576e+294 \t iteration: 9\n"
     ]
    },
    {
     "data": {
      "image/png": "[encoded data removed]",
      "text/plain": [
       "<Figure size 432x288 with 1 Axes>"
      ]
     },
     "metadata": {
      "needs_background": "light"
     },
     "output_type": "display_data"
    }
   ],
   "source": [
    "def main():\n",
    "    rng = np.random.RandomState(10)\n",
    "    X = 10 * rng.rand(1000, 5)  # feature matrix\n",
    "    y = 0.9 + np.dot(X, [2.2, 4., -4, 1, 2])  # target vector\n",
    " \n",
    "    # calls the stochastic gradient descent method\n",
    "    weight, cost_history_list = stochastic_gradient_descent(X, y,\n",
    "                                                            alpha=0.001,\n",
    "                                                            epochs=10,\n",
    "                                                            batch_size=32\n",
    "                                                           )\n",
    " \n",
    "    # visualize how our cost decreases over time\n",
    "    plt.plot(np.arange(len(cost_history_list)), cost_history_list)\n",
    "    plt.xlabel(\"Number of iterations (Epochs)\")\n",
    "    plt.ylabel(\"Cost function  J(Θ)\")\n",
    "    plt.title(\"Stochastic Gradient Descent\")\n",
    "    plt.show()\n",
    " \n",
    " \n",
    "if __name__ == '__main__':\n",
    "    main()"
   ]
  },
  {
   "cell_type": "markdown",
   "metadata": {},
   "source": [
    "## Advantages of Stochastic Gradient Descent\n",
    "\n",
    "Usually in practice, stochastic gradient descent is often preferred if we have:\n",
    "\n",
    "Lots of data: Stochastic gradient descent has better speed properties because we don’t have to touch all \\(m\\) datapoints before updating our \\(\\theta\\) parameter once.\n",
    " Computationally fast:  Updating our parameter is done quickly after seeing a few data points before modifying it.\n",
    " \n",
    "## Drawbacks of Stochastic Gradient Descent\n",
    "Nonetheless, since the procedure is random, it can be:\n",
    "\n",
    "Harder to Debug: Difficulty in assessing convergence.\n",
    "Harder to know when to stop: Stopping conditions may be harder to evaluate.\n"
   ]
  },
  {
   "cell_type": "code",
   "execution_count": null,
   "metadata": {},
   "outputs": [],
   "source": []
  },
  {
   "cell_type": "code",
   "execution_count": null,
   "metadata": {},
   "outputs": [],
   "source": []
  }
 ],
 "metadata": {
  "kernelspec": {
   "display_name": "Python 3 (ipykernel)",
   "language": "python",
   "name": "python3"
  },
  "language_info": {
   "codemirror_mode": {
    "name": "ipython",
    "version": 3
   },
   "file_extension": ".py",
   "mimetype": "text/x-python",
   "name": "python",
   "nbconvert_exporter": "python",
   "pygments_lexer": "ipython3",
   "version": "3.9.7"
  }
 },
 "nbformat": 4,
 "nbformat_minor": 2
}
